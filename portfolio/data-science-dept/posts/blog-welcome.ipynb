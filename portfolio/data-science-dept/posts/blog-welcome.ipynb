{
 "cells": [
  {
   "cell_type": "markdown",
   "id": "6188370c-b9e8-4b9e-9343-07c1228a3128",
   "metadata": {},
   "source": [
    "# **Tree**\n",
    "\n",
    "**Instructor:** Jhun Brian M. Andam\n",
    "\n",
    "**Course:** Data Structures and Algorithm\n",
    "\n",
    "**Objectives**\n",
    "\n",
    "- Learn how tree data structure works.\n",
    "- Implement trees in python.\n",
    "- Explore, understand, and implement different kind of trees in different use cases."
   ]
  },
  {
   "cell_type": "markdown",
   "id": "51f7bbaf-519e-45c3-bd9e-9abb8ffaf988",
   "metadata": {},
   "source": [
    "A **tree data structure** is a hierarchical model used to organize data in a parent-child relationship, resembling an inverted tree. It consists of nodes connected by edges, where the topmost node is called the root, and each node may have zero or more child nodes. Nodes without children are called leaves. Unlike linear data structures such as arrays or linked lists, trees allow for more efficient searching, insertion, and deletion operations in certain cases, especially when dealing with hierarchical data like file systems, organizational structures, or decision processes. Each tree must be connected and acyclic, meaning there is exactly one path between any two nodes. Specialized types of trees include binary trees, where each node has at most two children, and binary search trees, which maintain a specific order among elements to allow fast lookup operations."
   ]
  },
  {
   "cell_type": "markdown",
   "id": "e112d9ad-8df1-4be0-a08c-4c16c4a6fcf0",
   "metadata": {},
   "source": [
    "### **Components of a Tree**\n",
    "\n",
    "<center><img src=\"https://media.geeksforgeeks.org/wp-content/uploads/20250214120937877633/treeTerminologies.webp\" width=\"500px\"></center>\n",
    "\n",
    "1. **Parent Node**: The node which is an immediate predecessor of a node is called the parent node of that node.\n",
    "2. **Child Node**: The node which is the immediate successor of a node is called the child node of that node..\n",
    "3. **Root Node**: The topmost node of a tree or the node which does not have any parent node is called the root node. A non-empty tree must contain exactly one root node and exactly one path from the root to all other nodes of the tree.\n",
    "4. **Leaf Node or External Node**: The nodes which do not have any child nodes are called leaf nodes.\n",
    "5. **Ancestor of a Node**: Any predecessor nodes on the path of the root to that node are called Ancestors of that node.\n",
    "6. **Descendant**: A node `x` is a `descendant of` another node `y` **if and only if** `y` is `an ancestor` of `x`.\n",
    "7. **Sibling**: Children of the same parent node are called siblings.\n",
    "8. **Level of a node**: The count of edges on the path from the root node to that node.\n",
    "9. **Internal node**: A node with at least one child is called Internal Node.\n",
    "10. **Neighbour of a Node**: Parent or child nodes of that node are called neighbors of that node.\n",
    "11. **Subtree**: Any node of the tree along with its descendant."
   ]
  },
  {
   "cell_type": "markdown",
   "id": "4435db81-638a-4176-a283-955a87dfd38c",
   "metadata": {},
   "source": [
    "### **Common Types of Tree Data Structures**\n",
    "\n",
    "1. **N-Ary Tree**. A general tree where each node can have up to N children (not limited to two as in binary trees). This type of tree is useful for representing hierarchical structures like organizational charts, XML/HTML documents, or category trees.\n",
    "2. **Binary Tree**. A tree data structure where each node has at most two children, commonly referred to as the left child and right child. **It's the foundation for more advanced tree types** but does not enforce any specific ordering of elements.\n",
    "3. **Binary Search Trees**. A type of binary tree where the left child contains values less than the parent node, and the right child contains values greater than the parent. This structure allows for efficient O(log n) time complexity for search, insertion, and deletion—if the tree remains balanced.\n",
    "4. **AVL Tree**. A self-balancing binary search tree where the difference in height (balance factor) between the left and right subtrees of any node is no more than one. If the balance factor goes out of this range, rotations are performed to restore balance, ensuring logarithmic time complexity for operations."
   ]
  },
  {
   "cell_type": "markdown",
   "id": "6a1612f0-f42a-4000-89fe-76e9ce8289f6",
   "metadata": {},
   "source": [
    "### **Common Operations in Tree ADT**\n",
    "\n",
    "- `insert(parent, value)` – Adds a new node to the tree.\n",
    "- `delete(value)` – Removes a node from the tree.\n",
    "- `search(value)` – Checks if a value exists in the tree.\n",
    "- `traverse()` – Visits all nodes (e.g., pre-order, in-order, post-order).\n",
    "- `findParent(node)` – Returns the parent of a given node.\n",
    "- `findChildren(node)` – Returns the children of a given node."
   ]
  },
  {
   "cell_type": "markdown",
   "id": "cf515cfa-6fe9-4923-82f1-7f6498563ebb",
   "metadata": {},
   "source": [
    "### **Implementation**"
   ]
  },
  {
   "cell_type": "code",
   "execution_count": 1,
   "id": "5635ef4a-ee9d-4542-bef8-0eb3359876b0",
   "metadata": {},
   "outputs": [],
   "source": [
    "class GTNode:\n",
    "    def __init__(self, data):\n",
    "        self.data = data\n",
    "        self.children = []\n",
    "\n",
    "class BTNode:\n",
    "    def __init__(self, data):\n",
    "        self.data = data\n",
    "        self.left = None\n",
    "        self.right = None"
   ]
  },
  {
   "cell_type": "code",
   "execution_count": 2,
   "id": "5b911af0-1289-4906-88a7-fdb94eebedc6",
   "metadata": {},
   "outputs": [],
   "source": [
    "class Node:\n",
    "    def __init__(self, data, node_type='gt'):\n",
    "        self.data = data\n",
    "        self.node_type = node_type\n",
    "\n",
    "        if node_type == 'bt':\n",
    "            self.left = None\n",
    "            self.right = None\n",
    "        elif node_type == 'gt':\n",
    "            self.children = []\n",
    "        else:\n",
    "            raise ValueError(\"node_type must be either 'general' or 'binary'\")\n",
    "\n",
    "    def __repr__(self):\n",
    "        return str(self.data)"
   ]
  },
  {
   "cell_type": "markdown",
   "id": "d730c27b-932b-4977-906a-2e3373dde602",
   "metadata": {},
   "source": [
    "`Node` class will be used to create nodes for `N-Ary Tree` aka general trees and `Binary Tree`."
   ]
  },
  {
   "cell_type": "code",
   "execution_count": 3,
   "id": "5ae86e7b-bb53-4ef5-9b22-97fc4e4d5154",
   "metadata": {},
   "outputs": [],
   "source": [
    "class GTree:\n",
    "    def __init__(self, root_data):\n",
    "        self.root = Node(root_data, node_type='gt') # is an instance of class Node\n",
    "\n",
    "class BTree:\n",
    "    def __init__(self, root_data):\n",
    "        self.root = Node(root_data, node_type='bt')"
   ]
  },
  {
   "cell_type": "markdown",
   "id": "85bed4fb-5ef0-4c29-b1d3-78f8cc5f3598",
   "metadata": {},
   "source": [
    "`GTree` and `BTree` will be used as the initial to structure for Tree ADT."
   ]
  },
  {
   "cell_type": "markdown",
   "id": "13bf9807-7140-4f3a-8e44-e9e517802542",
   "metadata": {},
   "source": [
    "### **N-Ary**\n",
    "\n",
    "A general tree where each node can have up to N children (not limited to two as in binary trees)."
   ]
  },
  {
   "cell_type": "markdown",
   "id": "54fbf29d-cd54-4a48-a750-7001900797f1",
   "metadata": {},
   "source": [
    "Our goal is to make a tree that looks like this.\n",
    "<center><img src=\"figures/tree.drawio.png\" width=\"200px\"></center>"
   ]
  },
  {
   "cell_type": "code",
   "execution_count": 4,
   "id": "c36a70b6-e074-4d5f-b301-70f4861a00ae",
   "metadata": {},
   "outputs": [],
   "source": [
    "# root node\n",
    "gtree = GTree('rootsss') # this is already a tree or initial form sa tree\n",
    "\n",
    "# children nodes\n",
    "imgs = Node('images') # node instances\n",
    "msks = Node('masks')\n",
    "\n",
    "# add the instantaited children nodes to the root node\n",
    "gtree.root.children.append(imgs)\n",
    "gtree.root.children.append(msks)\n",
    "\n",
    "# et voila! that's how we create a tree :>"
   ]
  },
  {
   "cell_type": "markdown",
   "id": "a0c83b91-a302-4e7f-8b78-1e7c1be30906",
   "metadata": {},
   "source": [
    "Since tree nodes are not stored in a linear fashion, we need systematic methods to access each node. These methods are called tree traversal techniques, and they define the order in which we visit the nodes. Depending on the application, different traversal orders (like in-order, pre-order, post-order, or level-order) may be more suitable.\n",
    "\n",
    "**Traversal Methods**\n",
    "\n",
    "<center><img src=\"https://miro.medium.com/v2/resize:fit:956/1*7oIYbZPNlSSwS4qnz-Di6g.png\" width=\"650px\"></center>\n",
    "\n",
    "| Search Type         | Approach      | Uses Stack/Queue | Order of Visit        | Best Use Case                                  | Complexity (Average/Worst) |\n",
    "|---------------------|---------------|------------------|------------------------|------------------------------------------------|-----------------------------|\n",
    "| DFS (Preorder)      | Recursive/Iterative | Stack (explicit or implicit via recursion) | Root → Children (left to right) | General tree search, early exit possible        | $O(n)$ / $O(n)$                 |\n",
    "| DFS (Inorder)       | Binary trees only | Stack (implicit or explicit)     | Left → Root → Right         | Binary Search Trees for sorted data             | $O(log n)$ / $O(n)$             |\n",
    "| DFS (Postorder)     | Recursive/Iterative | Stack                          | Children → Root              | Deleting nodes, evaluating expressions          | $O(n)$ / $O(n)$                 |\n",
    "| BFS (Level-order)   | Iterative     | Queue                           | Level by level, left to right| Finding shortest path in unweighted trees       | $O(n)$ / $O(n)$                 |\n",
    "| Binary Search (BST) | Recursive/Iterative | No extra structure             | Depends on key comparisons   | Searching in Binary Search Trees                | $O(log n)$ / $O(n)$             |\n",
    "\n",
    "\n",
    "<center>\n",
    "  <a href=\"https://youtu.be/WLvU5EQVZqY\">\n",
    "    <img class=\"thumbnail\" \n",
    "         src=\"https://i.ytimg.com/vi/WLvU5EQVZqY/hq720.jpg\" \n",
    "         alt=\"YouTube Thumbnail\" \n",
    "         width=\"500px\">\n",
    "  </a>\n",
    "    <img src=\"figures/traversal.png\" width=\"350px\">\n",
    "</center>"
   ]
  },
  {
   "cell_type": "markdown",
   "id": "d487e7ce-db9c-429a-badf-d11e04ab0f17",
   "metadata": {},
   "source": [
    "- **preorder**\n",
    "- `parent -> children(left to right)`"
   ]
  },
  {
   "cell_type": "code",
   "execution_count": 8,
   "id": "69544c38-a31d-4b3f-8cb4-3ebd7d94adc8",
   "metadata": {},
   "outputs": [],
   "source": [
    "def preorder(node):\n",
    "    yield node.data\n",
    "    for child in node.children:\n",
    "        yield from preorder(child)"
   ]
  },
  {
   "cell_type": "code",
   "execution_count": 9,
   "id": "94fb2526-c928-49b7-9ecc-070fec6b6d67",
   "metadata": {},
   "outputs": [
    {
     "data": {
      "text/plain": [
       "['rootsss', 'images', 'masks']"
      ]
     },
     "execution_count": 9,
     "metadata": {},
     "output_type": "execute_result"
    }
   ],
   "source": [
    "[i for i in preorder(gtree.root)]"
   ]
  },
  {
   "cell_type": "markdown",
   "id": "a79fceae-791d-4eee-af25-ca9135fae503",
   "metadata": {},
   "source": [
    "- **postorder**\n",
    "- `children(left to right) -> parent`"
   ]
  },
  {
   "cell_type": "code",
   "execution_count": 10,
   "id": "2636ea5d-4ebb-4617-bcd6-ac781864d98a",
   "metadata": {},
   "outputs": [],
   "source": [
    "def postorder(node):\n",
    "    for child in node.children:\n",
    "        yield from postorder(child)\n",
    "    yield node.data"
   ]
  },
  {
   "cell_type": "code",
   "execution_count": 11,
   "id": "363d4af0-8fb4-4f50-b6b8-a1d62e0baf5a",
   "metadata": {},
   "outputs": [
    {
     "data": {
      "text/plain": [
       "['images', 'masks', 'rootsss']"
      ]
     },
     "execution_count": 11,
     "metadata": {},
     "output_type": "execute_result"
    }
   ],
   "source": [
    "[i for i in postorder(gtree.root)]"
   ]
  },
  {
   "cell_type": "markdown",
   "id": "598fe974-9a7f-4d56-87a0-4be7106b8b65",
   "metadata": {},
   "source": [
    "- **levelorder**\n",
    "- `level by level (left to right)`"
   ]
  },
  {
   "cell_type": "code",
   "execution_count": 12,
   "id": "2066a0e0-c835-4b3a-9f84-e9eaa8416125",
   "metadata": {},
   "outputs": [],
   "source": [
    "def levelorder(node):\n",
    "    queue = [node]\n",
    "    while queue:\n",
    "        n = queue.pop(0)\n",
    "        yield n.data\n",
    "        queue.extend(n.children)"
   ]
  },
  {
   "cell_type": "code",
   "execution_count": 13,
   "id": "a010e235-a445-4f5b-874c-4beeaab5f58b",
   "metadata": {},
   "outputs": [
    {
     "data": {
      "text/plain": [
       "['rootsss', 'images', 'masks']"
      ]
     },
     "execution_count": 13,
     "metadata": {},
     "output_type": "execute_result"
    }
   ],
   "source": [
    "[i for i in levelorder(gtree.root)]"
   ]
  },
  {
   "cell_type": "markdown",
   "id": "67e12015-28ba-4b5d-ac80-a399de610e4a",
   "metadata": {},
   "source": [
    "**Insert**"
   ]
  },
  {
   "cell_type": "code",
   "execution_count": 14,
   "id": "a75672fa-45ac-4587-90fc-bc9ca1f08054",
   "metadata": {},
   "outputs": [],
   "source": [
    "x_train = Node('x_train') # images\n",
    "y_train = Node('y_train') # masks\n",
    "x_test = Node('x_test') # images\n",
    "y_test = Node('y_test') # masks"
   ]
  },
  {
   "cell_type": "markdown",
   "id": "3c875e8f-cb41-41dd-a129-06c4a3ca93f2",
   "metadata": {},
   "source": [
    "We are adding more nodes to the tree structure. Since we already know the specific parent node to which each child should be assigned, traversal is not required in this case."
   ]
  },
  {
   "cell_type": "code",
   "execution_count": 15,
   "id": "c345a703-dc3b-4e58-a4c4-afb59de45742",
   "metadata": {},
   "outputs": [],
   "source": [
    "def insert(parent, node):\n",
    "    parent.children.append(node)"
   ]
  },
  {
   "cell_type": "code",
   "execution_count": 16,
   "id": "a726f256-c135-4bda-a1d7-9c180be116b7",
   "metadata": {},
   "outputs": [],
   "source": [
    "gtree.root.children[0].children.append(x_train)\n",
    "gtree.root.children[0].children.append(x_test)\n",
    "\n",
    "gtree.root.children[1].children.append(y_train)\n",
    "gtree.root.children[1].children.append(y_test)"
   ]
  },
  {
   "cell_type": "code",
   "execution_count": 17,
   "id": "69bf9353-5051-442b-b01f-18bce632f8dc",
   "metadata": {},
   "outputs": [],
   "source": [
    "# images\n",
    "# insert(gtree.root.children[0], x_train)\n",
    "# insert(gtree.root.children[0], x_test)\n",
    "\n",
    "# # masks\n",
    "# insert(gtree.root.children[1], y_train)\n",
    "# insert(gtree.root.children[1], y_test)"
   ]
  },
  {
   "cell_type": "markdown",
   "id": "45b1544c-4a91-40da-a5f6-0eb959491e60",
   "metadata": {},
   "source": [
    "**Display Function**"
   ]
  },
  {
   "cell_type": "code",
   "execution_count": 18,
   "id": "9a2266ed-72bc-400e-92c0-2bd532ccb840",
   "metadata": {},
   "outputs": [],
   "source": [
    "def print_tree(node, level=0):\n",
    "    print(\" \" * (level * 2) + str(node.data))\n",
    "    for child in node.children:\n",
    "        print_tree(child, level + 1)"
   ]
  },
  {
   "cell_type": "code",
   "execution_count": 19,
   "id": "213ef0a6-acee-4bc8-89d9-38f892ac0284",
   "metadata": {},
   "outputs": [
    {
     "name": "stdout",
     "output_type": "stream",
     "text": [
      "rootsss\n",
      "  images\n",
      "    x_train\n",
      "    x_test\n",
      "  masks\n",
      "    y_train\n",
      "    y_test\n"
     ]
    }
   ],
   "source": [
    "print_tree(gtree.root)"
   ]
  },
  {
   "cell_type": "markdown",
   "id": "ae05bb86-6d7d-489f-932f-16f6b861c751",
   "metadata": {},
   "source": [
    "We compile the traversal methods in this class, the traversal methods defined here are only applicable for N-Ary trees."
   ]
  },
  {
   "cell_type": "code",
   "execution_count": 20,
   "id": "e345a69d-a290-4f28-b5a5-10b295ed01c6",
   "metadata": {},
   "outputs": [],
   "source": [
    "class Traverse:\n",
    "    def __init__(self, node):\n",
    "        self.node = node\n",
    "\n",
    "    def preorder(self):\n",
    "        def _preorder(node):\n",
    "            yield node.data\n",
    "            for child in node.children:\n",
    "                yield from _preorder(child)\n",
    "        return _preorder(self.node)\n",
    "\n",
    "    def postorder(self):\n",
    "        def _postorder(node):\n",
    "            for child in node.children:\n",
    "                yield from _postorder(child)\n",
    "            yield node.data\n",
    "        return _postorder(self.node)\n",
    "\n",
    "    def levelorder(self):\n",
    "        queue = [self.node]\n",
    "        while queue:\n",
    "            n = queue.pop(0)\n",
    "            yield n.data\n",
    "            queue.extend(n.children)"
   ]
  },
  {
   "cell_type": "markdown",
   "id": "a4d4d36d-07ea-4eb1-9882-504ed59ec074",
   "metadata": {},
   "source": [
    "<center><img src=\"figures/tree.drawio2.png\" width=\"400px\"></center>"
   ]
  },
  {
   "cell_type": "code",
   "execution_count": 22,
   "id": "ceceb6d0-1ef5-424a-bb55-cd37ffe10d14",
   "metadata": {},
   "outputs": [],
   "source": [
    "tobj = Traverse(gtree.root)"
   ]
  },
  {
   "cell_type": "code",
   "execution_count": 26,
   "id": "b849bf3a-3b3c-4a17-8e45-7877612fa877",
   "metadata": {},
   "outputs": [
    {
     "data": {
      "text/plain": [
       "['x_train', 'x_test', 'images', 'y_train', 'y_test', 'masks', 'rootsss']"
      ]
     },
     "execution_count": 26,
     "metadata": {},
     "output_type": "execute_result"
    }
   ],
   "source": [
    "[i for i in tobj.postorder()]"
   ]
  },
  {
   "cell_type": "markdown",
   "id": "f08e7a36-9110-4182-a319-f06fa77e9fe1",
   "metadata": {},
   "source": [
    "<div class=\"alert alert-block alert-warning\"><b><h3>Think: </h3></b>\n",
    "\n",
    "1. What will be the output if we execute the following codes?\n",
    "    - ```python\n",
    "      [i for i in tobj.preorder()]\n",
    "      ```\n",
    "    - ```python\n",
    "      [i for i in tobj.postorder()]\n",
    "      ```\n",
    "    - ```python\n",
    "      [i for i in tobj.levelorder()]\n",
    "      ```\n",
    "</div>"
   ]
  },
  {
   "cell_type": "markdown",
   "id": "077d1fe9-ebc3-4ea9-b888-6c60497757a6",
   "metadata": {},
   "source": [
    "<div class=\"alert alert-block alert-warning\"><b><h3>Homework Activity: </h3></b>\n",
    "    \n",
    "In this lab activity, you’ll apply your understanding of tree structures and traversal by implementing some fundamental operations in an N-ary tree:\n",
    "\n",
    "- `search(root, data)` – Locate a specific node in the tree, returns True if data in tree, else, False.\n",
    "- `delete(node)` – Remove a single node while preserving tree structure.\n",
    "- `delete_subtree(node)` – Remove a node and all of its descendants.\n",
    "- `find_parent(node)` – Identify the parent of a given node (assuming no direct parent reference).\n",
    "\n",
    "Replicate the figure below, you may use the `Traverse` class for this. Comment each line of code in `conyo or bisaya`.\n",
    "\n",
    "NO comment, NO score\n",
    "\n",
    "<center><img src=\"figures/tree-Page-2.drawio.png\"></center>\n",
    "\n",
    "After you implement, answer the following questions.\n",
    "\n",
    "1. What are your realizations after implementing the Tree methods?\n",
    "2. Which operation did you find most challenging to implement, and why?\n",
    "3. In what real-world applications might N-ary trees be used?\n",
    "4. Did using traversal help make your code more organized or efficient? Explain.\n",
    "5. If given a very large tree, which traversal method would you choose for searching and why?\n",
    "</div>"
   ]
  },
  {
   "cell_type": "markdown",
   "id": "f7592bfb-aba9-47be-9dc4-01862825284a",
   "metadata": {},
   "source": [
    "### **Binary Tree**\n",
    "\n",
    "| Feature                      | Binary Tree                                  | N-ary Tree (General Tree)                         |\n",
    "|-----------------------------|----------------------------------------------|---------------------------------------------------|\n",
    "| **Number of Children**      | Maximum of 2 children per node               | Up to N children per node (no fixed maximum)      |\n",
    "| **Child Pointers**          | Usually `left` and `right` attributes        | Usually a `children` list                         |\n",
    "| **Tree Traversals**         | Inorder, Preorder, Postorder, Level-order    | Preorder, Postorder, Level-order                  |\n",
    "| **Use Cases**               | Binary Search Tree, Heap, Expression Tree    | File systems, Game trees, Organizational charts   |\n",
    "| **Simplicity**              | Easier to implement and reason about         | More flexible but requires list-based handling    |\n",
    "| **Memory Usage**            | Fixed pointer structure (left/right)         | May use dynamic memory (e.g., lists of children)  |\n",
    "| **Common Variants**         | BST, AVL, Red-Black, Heap                    | Trie, Quad Tree, B-Tree, etc.                     |\n",
    "| **Traversal Efficiency**    | Simpler recursive or iterative methods       | Needs generalized recursion or queue handling     |\n",
    "\n",
    "\n",
    "Binary tree shares the same methods with N-Ary tree but teh implementation should be explicit for binary trees."
   ]
  },
  {
   "cell_type": "code",
   "execution_count": 27,
   "id": "bbaeff16-214e-4b88-beb3-0fd36eda0439",
   "metadata": {},
   "outputs": [],
   "source": [
    "btree = BTree('alpha')\n",
    "\n",
    "l = Node('beta', node_type='bt')\n",
    "r = Node('gamma', node_type='bt')\n",
    "\n",
    "btree.root.left = l\n",
    "btree.root.right = r\n",
    "\n",
    "ll = Node('delta', node_type='bt')\n",
    "lr = Node('epsilon', node_type='bt')\n",
    "\n",
    "btree.root.left.left = ll\n",
    "btree.root.left.right = lr"
   ]
  },
  {
   "cell_type": "markdown",
   "id": "1bdebc1b-670b-4f56-880b-f174b8599530",
   "metadata": {},
   "source": [
    "We modified the `print_method()` above to accommodate Binary Trees, where children are stored as individual variables (e.g., `left` and `right`) rather than as a collection like in N-Ary Trees."
   ]
  },
  {
   "cell_type": "code",
   "execution_count": 28,
   "id": "a4c55cb7-510b-4aa7-85fc-051243190e43",
   "metadata": {},
   "outputs": [],
   "source": [
    "def print_btree(root, level=0, prefix=\"Root: \"):\n",
    "    if root is not None:\n",
    "        print(\" \" * (level * 4) + prefix + str(root.data))\n",
    "        if root.left is not None or root.right is not None:\n",
    "            if root.left:\n",
    "                print_btree(root.left, level + 1, \"L--- \")\n",
    "            if root.right:\n",
    "                print_btree(root.right, level + 1, \"R--- \")"
   ]
  },
  {
   "cell_type": "code",
   "execution_count": 29,
   "id": "c8989552-baa0-4cde-b6c8-707a1bef71fc",
   "metadata": {},
   "outputs": [
    {
     "name": "stdout",
     "output_type": "stream",
     "text": [
      "Root: alpha\n",
      "    L--- beta\n",
      "        L--- delta\n",
      "        R--- epsilon\n",
      "    R--- gamma\n"
     ]
    }
   ],
   "source": [
    "print_btree(btree.root)"
   ]
  },
  {
   "cell_type": "markdown",
   "id": "deef1056-3f21-4dd7-b953-ed422f651ca9",
   "metadata": {},
   "source": [
    "Inorder traversal is only applicable to binary trees because it relies on the concept of visiting the left child, then the current node, and finally the right child — a structure that only binary trees follow."
   ]
  },
  {
   "cell_type": "code",
   "execution_count": 30,
   "id": "1d760c78-b270-4253-b20e-bd38b5e83154",
   "metadata": {},
   "outputs": [],
   "source": [
    "def inorder(root):\n",
    "    if root is None:\n",
    "        return\n",
    "    yield from inorder(root.left)\n",
    "    yield root.data\n",
    "    yield from inorder(root.right)"
   ]
  },
  {
   "cell_type": "code",
   "execution_count": 32,
   "id": "f66406a3-a943-4ba8-b0e1-06994e60fefe",
   "metadata": {},
   "outputs": [
    {
     "data": {
      "text/plain": [
       "['delta', 'beta', 'epsilon', 'alpha', 'gamma']"
      ]
     },
     "execution_count": 32,
     "metadata": {},
     "output_type": "execute_result"
    }
   ],
   "source": [
    "[i for i in inorder(btree.root)]"
   ]
  },
  {
   "cell_type": "code",
   "execution_count": null,
   "id": "c972294d-cfb9-415e-8f26-427257df2374",
   "metadata": {},
   "outputs": [],
   "source": []
  }
 ],
 "metadata": {
  "kernelspec": {
   "display_name": "Python 3 (ipykernel)",
   "language": "python",
   "name": "python3"
  },
  "language_info": {
   "codemirror_mode": {
    "name": "ipython",
    "version": 3
   },
   "file_extension": ".py",
   "mimetype": "text/x-python",
   "name": "python",
   "nbconvert_exporter": "python",
   "pygments_lexer": "ipython3",
   "version": "3.9.21"
  }
 },
 "nbformat": 4,
 "nbformat_minor": 5
}
